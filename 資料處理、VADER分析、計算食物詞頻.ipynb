{
 "cells": [
  {
   "cell_type": "code",
   "execution_count": 2,
   "metadata": {},
   "outputs": [],
   "source": [
    "import pandas as pd\n",
    "import re"
   ]
  },
  {
   "cell_type": "code",
   "execution_count": 3,
   "metadata": {},
   "outputs": [],
   "source": [
    "df = pd.read_csv('/Users/daishiwei/Desktop/課程/文字探勘/data/20221218_餐廳彙整.csv')"
   ]
  },
  {
   "cell_type": "code",
   "execution_count": 95,
   "metadata": {},
   "outputs": [],
   "source": [
    "#檢查是否在兩年內\n",
    "#配合pd.df.map\n",
    "#輸入：文字（評論時間）\n",
    "#輸出：是否在兩年內 是：1 否：0\n",
    "def time_ana(x):\n",
    "    if re.search('a\\syear\\sago',x):\n",
    "        intwoyear = 1\n",
    "    elif re.search('\\syears\\sago',x):\n",
    "        intwoyear = 0\n",
    "    else:\n",
    "        intwoyear = 1\n",
    "    return intwoyear\n",
    "#分開中文跟英文\n",
    "#輸入：文字（評論內容\n",
    "#輸出： 英文部分的評論, 中文部分的評論\n",
    "def eng_split(x):\n",
    "    t_s = re.sub('[\\n]','',x)\n",
    "    t_s_ch = re.sub('[a-zA-Z\\s\\d]','',t_s)\n",
    "    t_s_ch = re.sub('[\\W]','',t_s_ch)\n",
    "    try:\n",
    "        idx = re.search(t_s_ch[0],t_s).span()\n",
    "        t_s_eng = t_s[:idx[0]]\n",
    "    except:\n",
    "        return t_s\n",
    "    t_s_eng = re.sub('Translated by Google','',t_s_eng)\n",
    "    t_s_eng = re.sub('(Original)','',t_s_eng)\n",
    "    t_s_eng = re.sub('\\(\\)','',t_s_eng)\n",
    "    return t_s_eng\n",
    "def ch_split(x):\n",
    "    t_s = re.sub('[\\n]','',x)\n",
    "    t_s_ch = re.sub('[a-zA-Z\\s\\d]','',t_s)\n",
    "    t_s_ch = re.sub('[\\W]','',t_s_ch)\n",
    "    return t_s_ch\n",
    "\n",
    "def del_dul(data, del_col= ['餐廳名稱','評論人', '評論內容']):\n",
    "#根據 del_col裡包含的欄位的重複內容，進行清除\n",
    "    df_del_re = data.drop_duplicates(subset = del_col)\n",
    "    return df_del_re"
   ]
  },
  {
   "cell_type": "code",
   "execution_count": 5,
   "metadata": {},
   "outputs": [],
   "source": [
    "#清除重複資料，標準是在同一間店、同一個人、同樣的留言\n",
    "df = del_dul(df)\n",
    "\n",
    "#標記是否在兩年內\n",
    "df['是否在兩年內'] = df['評論時間'].map(time_ana)\n",
    "#根據是否在兩年內進行篩選\n",
    "df_time_pro = pd.DataFrame(df[df['是否在兩年內'] == 1])\n"
   ]
  },
  {
   "cell_type": "code",
   "execution_count": null,
   "metadata": {},
   "outputs": [],
   "source": [
    "#清除評論為空的對象\n",
    "df_clean =df_time_pro.dropna(axis=0,how='all',subset=['評論內容'])"
   ]
  },
  {
   "cell_type": "code",
   "execution_count": 98,
   "metadata": {},
   "outputs": [],
   "source": [
    "#將評論內容分為英文、中文兩部分\n",
    "df_clean['英文留言']= df_clean['評論內容'].map(eng_split)\n",
    "df_clean['中文留言']= df_clean['評論內容'].map(ch_split)"
   ]
  },
  {
   "attachments": {},
   "cell_type": "markdown",
   "metadata": {},
   "source": [
    "斷詞"
   ]
  },
  {
   "cell_type": "code",
   "execution_count": null,
   "metadata": {},
   "outputs": [],
   "source": [
    "#載入ckip\n",
    "from ckiptagger import data_utils, construct_dictionary, WS, POS"
   ]
  },
  {
   "cell_type": "code",
   "execution_count": null,
   "metadata": {},
   "outputs": [],
   "source": [
    "#載入模型\n",
    "ws = WS(\"./data\")\n",
    "pos = POS(\"./data\")"
   ]
  },
  {
   "cell_type": "code",
   "execution_count": null,
   "metadata": {},
   "outputs": [],
   "source": [
    "#將傳入的列表中的每個評論斷詞、標注詞性，傳回斷詞列表、詞性列表\n",
    "def ckip_tag_fun(review):\n",
    "    sentence_list = review\n",
    "    word_sentence_list = ws(\n",
    "    sentence_list,\n",
    "    )\n",
    "    pos_sentence_list = pos(word_sentence_list)\n",
    "    return word_sentence_list, pos_sentence_list"
   ]
  },
  {
   "cell_type": "code",
   "execution_count": null,
   "metadata": {},
   "outputs": [],
   "source": [
    "ws_result, pos_result = ckip_tag_fun(df_clean['中文留言'])\n",
    "df_clean['斷詞結果'],df_clean['詞性標注'] = ws_result,pos_result"
   ]
  },
  {
   "cell_type": "code",
   "execution_count": null,
   "metadata": {},
   "outputs": [],
   "source": [
    "#釋放記憶體\n",
    "del ws\n",
    "del pos"
   ]
  },
  {
   "attachments": {},
   "cell_type": "markdown",
   "metadata": {},
   "source": [
    "情意分析"
   ]
  },
  {
   "cell_type": "code",
   "execution_count": 1,
   "metadata": {},
   "outputs": [
    {
     "name": "stderr",
     "output_type": "stream",
     "text": [
      "[nltk_data] Downloading package vader_lexicon to\n",
      "[nltk_data]     /Users/daishiwei/nltk_data...\n"
     ]
    }
   ],
   "source": [
    "#載入nltk\\vader\n",
    "import nltk\n",
    "#nltk.download('vader_lexicon')\n",
    "from nltk.sentiment.vader import SentimentIntensityAnalyzer"
   ]
  },
  {
   "cell_type": "code",
   "execution_count": 97,
   "metadata": {},
   "outputs": [],
   "source": [
    "#將傳入的評論進行情意分析\n",
    "def vader_fun(x):\n",
    "    sid = SentimentIntensityAnalyzer()\n",
    "    score = sid.polarity_scores(x)\n",
    "    return score"
   ]
  },
  {
   "cell_type": "code",
   "execution_count": 107,
   "metadata": {},
   "outputs": [],
   "source": [
    "#對每個英文評論的情意分析分數進行分類，大於0.05分為正面、小於-0.0.5的為負面、在此之間是中性\n",
    "def sen_encode(x):\n",
    "    if x['compound'] >0.05:\n",
    "        return '正面'\n",
    "    elif 0.05 >x['compound'] > -0.05:\n",
    "        return '中性'\n",
    "    elif -0.05 > x['compound']:\n",
    "        return '負面'"
   ]
  },
  {
   "cell_type": "code",
   "execution_count": 100,
   "metadata": {},
   "outputs": [],
   "source": [
    "#對每個英文評論進行情意分析\n",
    "df_clean['情感分析'] = df_clean['英文留言'].map(vader_fun)"
   ]
  },
  {
   "cell_type": "code",
   "execution_count": 108,
   "metadata": {},
   "outputs": [],
   "source": [
    "#對每個英文評論的情意分析分數進行分類\n",
    "df_clean['情感分析結果分類'] = df_clean['情感分析'].map(sen_encode)"
   ]
  },
  {
   "cell_type": "code",
   "execution_count": 115,
   "metadata": {},
   "outputs": [
    {
     "name": "stdout",
     "output_type": "stream",
     "text": [
      "正面    122279\n",
      "中性     36806\n",
      "負面     16952\n",
      "Name: 情感分析結果分類, dtype: int64\n",
      "正面比例：0.6946210171725262\n",
      "負面比例：0.20908104546203354\n",
      "中性比例：0.09629793736544022\n"
     ]
    }
   ],
   "source": [
    "#印出總體情感分析分數的分類結果的總和\n",
    "x = df_clean['情感分析結果分類'].value_counts()\n",
    "print(x)\n",
    "print(f'正面比例：{x.iloc[0]/(x.sum())}')\n",
    "print(f'負面比例：{x.iloc[1]/(x.sum())}')\n",
    "print(f'中性比例：{x.iloc[2]/(x.sum())}')"
   ]
  },
  {
   "cell_type": "code",
   "execution_count": 116,
   "metadata": {},
   "outputs": [
    {
     "data": {
      "text/plain": [
       "餐廳名稱           情感分析結果分類\n",
       "1010湘 (南港中信店)  正面          83\n",
       "               負面          17\n",
       "               中性          15\n",
       "112巷牛排         正面          89\n",
       "               中性          32\n",
       "                           ..\n",
       "龍翔園餐廳          中性          31\n",
       "               負面          10\n",
       "龟覓の鍋物          正面          80\n",
       "               中性           4\n",
       "               負面           3\n",
       "Name: 情感分析結果分類, Length: 2860, dtype: int64"
      ]
     },
     "execution_count": 116,
     "metadata": {},
     "output_type": "execute_result"
    }
   ],
   "source": [
    "#根據每家店印出情感分析分數的分類結果的總和\n",
    "df_clean.groupby('餐廳名稱')['情感分析結果分類'].value_counts()"
   ]
  },
  {
   "cell_type": "markdown",
   "metadata": {},
   "source": [
    "星等分析"
   ]
  },
  {
   "cell_type": "code",
   "execution_count": 121,
   "metadata": {},
   "outputs": [
    {
     "name": "stdout",
     "output_type": "stream",
     "text": [
      "所有資料：\n",
      "總體星等（未清除空值）：4.199818494442069\n",
      "總體星等（清除空值）：4.152662786332281\n",
      "兩年內資料\n",
      "總體星等（未清除空值）：4.274607708832778\n",
      "總體星等（清除空值）：4.199769374527814\n"
     ]
    }
   ],
   "source": [
    "#計算總體星等\n",
    "print('所有資料：')\n",
    "print('總體星等（未清除空值）：{}'.format(df['評論人給星'].sum()/df.shape[0]))\n",
    "df_del_na = df.dropna(axis=0,how='all',subset=['評論內容'])\n",
    "print('總體星等（清除空值）：{}'.format(df_del_na['評論人給星'].sum()/df_del_na.shape[0]))\n",
    "#兩年內、未清除\n",
    "print('兩年內資料')\n",
    "print('總體星等（未清除空值）：{}'.format(df_time_pro['評論人給星'].sum()/df_time_pro.shape[0]))\n",
    "print('總體星等（清除空值）：{}'.format(df_clean['評論人給星'].sum()/df_clean.shape[0]))\n"
   ]
  },
  {
   "cell_type": "code",
   "execution_count": 173,
   "metadata": {},
   "outputs": [
    {
     "name": "stdout",
     "output_type": "stream",
     "text": [
      "所有資料：\n",
      "總體星等（未清除空值）：餐廳名稱           餐廳名稱         \n",
      "1010湘 (南港中信店)  1010湘 (南港中信店)    3.998632\n",
      "112巷牛排         112巷牛排           3.833935\n",
      "2018搞食堂        2018搞食堂          4.043956\n",
      "285大排檔         285大排檔           3.735294\n",
      "2J CAFE        2J CAFE          4.391667\n",
      "                                  ...   \n",
      "龍坊上海點心店        龍坊上海點心店          3.125000\n",
      "龍洞海產           龍洞海產             3.961637\n",
      "龍涎居雞膳食坊 大直店    龍涎居雞膳食坊 大直店      3.987395\n",
      "龍翔園餐廳          龍翔園餐廳            4.093679\n",
      "龟覓の鍋物          龟覓の鍋物            4.691781\n",
      "Length: 973, dtype: float64\n",
      "總體星等（清除空值）：餐廳名稱           餐廳名稱         \n",
      "1010湘 (南港中信店)  1010湘 (南港中信店)    3.869249\n",
      "112巷牛排         112巷牛排           3.755230\n",
      "2018搞食堂        2018搞食堂          4.000000\n",
      "285大排檔         285大排檔           3.586207\n",
      "2J CAFE        2J CAFE          4.322222\n",
      "                                  ...   \n",
      "龍坊上海點心店        龍坊上海點心店          2.852632\n",
      "龍洞海產           龍洞海產             3.972678\n",
      "龍涎居雞膳食坊 大直店    龍涎居雞膳食坊 大直店      3.840000\n",
      "龍翔園餐廳          龍翔園餐廳            4.183258\n",
      "龟覓の鍋物          龟覓の鍋物            4.708738\n",
      "Length: 972, dtype: float64\n",
      "兩年內資料\n",
      "總體星等（未清除空值）：餐廳名稱           餐廳名稱         \n",
      "1010湘 (南港中信店)  1010湘 (南港中信店)    4.057803\n",
      "112巷牛排         112巷牛排           3.839130\n",
      "2018搞食堂        2018搞食堂          3.983333\n",
      "285大排檔         285大排檔           3.466667\n",
      "2J CAFE        2J CAFE          4.391667\n",
      "                                  ...   \n",
      "龍坊上海點心店        龍坊上海點心店          3.325581\n",
      "龍洞海產           龍洞海產             4.076087\n",
      "龍涎居雞膳食坊 大直店    龍涎居雞膳食坊 大直店      4.020000\n",
      "龍翔園餐廳          龍翔園餐廳            4.183036\n",
      "龟覓の鍋物          龟覓の鍋物            4.754386\n",
      "Length: 971, dtype: float64\n",
      "總體星等（清除空值）：餐廳名稱           餐廳名稱         \n",
      "1010湘 (南港中信店)  1010湘 (南港中信店)    3.939130\n",
      "112巷牛排         112巷牛排           3.750000\n",
      "2018搞食堂        2018搞食堂          3.950000\n",
      "285大排檔         285大排檔           3.357143\n",
      "2J CAFE        2J CAFE          4.322222\n",
      "                                  ...   \n",
      "龍坊上海點心店        龍坊上海點心店          3.103448\n",
      "龍洞海產           龍洞海產             4.142857\n",
      "龍涎居雞膳食坊 大直店    龍涎居雞膳食坊 大直店      3.857143\n",
      "龍翔園餐廳          龍翔園餐廳            4.195312\n",
      "龟覓の鍋物          龟覓の鍋物            4.770115\n",
      "Length: 970, dtype: float64\n"
     ]
    }
   ],
   "source": [
    "#計算各家店星等\n",
    "print('所有資料：')\n",
    "print('總體星等（未清除空值）：{}'.format(df.groupby('餐廳名稱')['評論人給星'].sum()/df.groupby('餐廳名稱')['餐廳名稱'].value_counts()))\n",
    "print('總體星等（清除空值）：{}'.format(df_del_na.groupby('餐廳名稱')['評論人給星'].sum()/df_del_na.groupby('餐廳名稱')['餐廳名稱'].value_counts()))\n",
    "#兩年內、未清除\n",
    "print('兩年內資料')\n",
    "print('總體星等（未清除空值）：{}'.format(df_time_pro.groupby('餐廳名稱')['評論人給星'].sum()/df_time_pro.groupby('餐廳名稱')['餐廳名稱'].value_counts()))\n",
    "print('總體星等（清除空值）：{}'.format(df_clean.groupby('餐廳名稱')['評論人給星'].sum()/df_clean.groupby('餐廳名稱')['餐廳名稱'].value_counts()))"
   ]
  },
  {
   "cell_type": "code",
   "execution_count": 195,
   "metadata": {},
   "outputs": [],
   "source": [
    "#建立dataframe，依據“所有評論”、“有具體評論內容的評論”、“兩年內的所有評論”、“兩年內有具體評論內容的評論”分別計算各餐廳的星等\n",
    "df_star = pd.DataFrame({'所有資料（未清除空值）': df.groupby('餐廳名稱')['評論人給星'].sum()/df.groupby('餐廳名稱')['餐廳名稱'].value_counts(),\n",
    "                        '所有資料（清除空值）': df_del_na.groupby('餐廳名稱')['評論人給星'].sum()/df_del_na.groupby('餐廳名稱')['餐廳名稱'].value_counts(),\n",
    "                        '兩年內資料（未清除空值)': df_time_pro.groupby('餐廳名稱')['評論人給星'].sum()/df_time_pro.groupby('餐廳名稱')['餐廳名稱'].value_counts(),\n",
    "                        '兩年內資料（清除空值)': df_clean.groupby('餐廳名稱')['評論人給星'].sum()/df_clean.groupby('餐廳名稱')['餐廳名稱'].value_counts()\n",
    "})"
   ]
  },
  {
   "cell_type": "code",
   "execution_count": 186,
   "metadata": {},
   "outputs": [],
   "source": [
    "#單獨抓出每家餐廳的名稱\n",
    "res_name = []\n",
    "for i in df_star.index:\n",
    "    res_name.append(i[0])"
   ]
  },
  {
   "cell_type": "code",
   "execution_count": 189,
   "metadata": {},
   "outputs": [],
   "source": [
    "#把索引更換成餐廳名稱\n",
    "df_star['餐廳名稱'] = res_name\n",
    "df_star.set_index('餐廳名稱',inplace=True)"
   ]
  },
  {
   "cell_type": "code",
   "execution_count": 193,
   "metadata": {},
   "outputs": [],
   "source": [
    "#匯出\n",
    "df_star.to_csv('餐廳星等.csv')"
   ]
  },
  {
   "attachments": {},
   "cell_type": "markdown",
   "metadata": {},
   "source": [
    "抓出食物"
   ]
  },
  {
   "cell_type": "code",
   "execution_count": 141,
   "metadata": {},
   "outputs": [],
   "source": [
    "#因為斷詞結果變成字串（\"['名詞','名詞'...]\"）因此要改回成列表的形式\n",
    "def turn_to_list(x):\n",
    "    text = re.sub('[\\s\\'\\\"\\[\\]]','',x)\n",
    "    return text.split(',')"
   ]
  },
  {
   "cell_type": "code",
   "execution_count": 144,
   "metadata": {},
   "outputs": [],
   "source": [
    "#把斷詞結果、詞性標註結果變成一維的列表\n",
    "ws_result,pos_result = df_clean['斷詞結果'].map(turn_to_list), df_clean['詞性標注'].map(turn_to_list)\n",
    "\n",
    "word_list = []\n",
    "pos_list = []\n",
    "for i in ws_result:\n",
    "    word_list += i\n",
    "for i in pos_result:\n",
    "    pos_list += i"
   ]
  },
  {
   "cell_type": "code",
   "execution_count": 147,
   "metadata": {},
   "outputs": [],
   "source": [
    "#利用pandas dataframe的filter來篩選出名詞\n",
    "df_w2p = pd.DataFrame({'word':word_list,'pos':pos_list})"
   ]
  },
  {
   "cell_type": "code",
   "execution_count": 203,
   "metadata": {},
   "outputs": [],
   "source": [
    "#計算不同名詞出現的頻率\n",
    "w_n = df_w2p[df_w2p['pos']=='Na'].value_counts()"
   ]
  },
  {
   "cell_type": "code",
   "execution_count": 176,
   "metadata": {},
   "outputs": [],
   "source": [
    "#把包含了斷詞結果、詞性、情感分析分數、情感分析分類的兩年內資料匯出\n",
    "df_output = df_clean.drop(labels = ['Unnamed: 0','Unnamed: 0.1','Unnamed: 0.1.1'],axis = 1)\n",
    "df_output.iloc[0:5].to_csv('分析結果格式.csv')\n",
    "df_output.to_csv('分析結果.csv')"
   ]
  },
  {
   "cell_type": "code",
   "execution_count": 259,
   "metadata": {},
   "outputs": [],
   "source": [
    "#如果傳入值在停用字當中就標記為1，沒有為0\n",
    "#用來剔除找到的名詞中的停用字\n",
    "def in_stop_word(x):\n",
    "    stop_word = ['餐點','人', '味道', '環境', '口味', '菜', '態度', '人員', '份量', '價格', '食物', '食材',\n",
    "                     '料理', '店員', '東西', '客人', '老闆', '整體', '店家', '氣氛', '口感', '菜色', '甜點',\n",
    "                     '套餐', '感覺','朋友', '時間','價位', '飲料', '服務生', '品質', '地方', '菜單','餐', '空間',\n",
    "                      '星', '水準', '速度','包廂','老闆娘','員工','車位','期間','阿姨','捷運','疫情'] \n",
    "    if x in stop_word:\n",
    "        y =1\n",
    "    else:\n",
    "        y=0\n",
    "    return y\n",
    "#因為在處理時會以餐廳名稱做groupby\n",
    "#使用groupby後的資料是dataframe的格式\n",
    "#對傳入的dataframe先把名詞和詞性的部分拉成一維\n",
    "def get_most_freq_word(x):\n",
    "    word_list = []\n",
    "    pos_list = []\n",
    "    most_freq_word = []\n",
    "    for word in x['斷詞結果']:\n",
    "        word_list += word\n",
    "    for pos in x['詞性標注']:\n",
    "        pos_list += pos\n",
    "    #利用datframe的filter找到名詞\n",
    "    df_w2p = pd.DataFrame({'word':word_list,'pos':pos_list})\n",
    "    #刪除停用字\n",
    "    df_w2p['in_stop_word']= df_w2p['word'].map(in_stop_word)\n",
    "\n",
    "    df_w2p = df_w2p.drop(df_w2p[df_w2p['in_stop_word']==1].index,axis=0)\n",
    "    \n",
    "    #計算不同名詞出現的頻率\n",
    "    w_n = df_w2p[df_w2p['pos']=='Na'].value_counts()\n",
    "    #抓出名詞\n",
    "    for i,j,k in w_n.head(10).index:\n",
    "        most_freq_word.append(i)\n",
    "    #輸出常出現名詞列表\n",
    "    return most_freq_word\n",
    "    "
   ]
  },
  {
   "cell_type": "code",
   "execution_count": 260,
   "metadata": {},
   "outputs": [],
   "source": [
    "tem_most_freq =df_output.groupby('餐廳名稱').apply(get_most_freq_word)\n",
    "tem_most_freq.to_csv('每間餐廳評論中最常出現的詞.csv')"
   ]
  }
 ],
 "metadata": {
  "kernelspec": {
   "display_name": "base",
   "language": "python",
   "name": "python3"
  },
  "language_info": {
   "codemirror_mode": {
    "name": "ipython",
    "version": 3
   },
   "file_extension": ".py",
   "mimetype": "text/x-python",
   "name": "python",
   "nbconvert_exporter": "python",
   "pygments_lexer": "ipython3",
   "version": "3.9.7"
  },
  "orig_nbformat": 4,
  "vscode": {
   "interpreter": {
    "hash": "c682f5134d0a4b5dd854814104bad36bea7f6c93a9f2e5ed614c8dc65a03d05c"
   }
  }
 },
 "nbformat": 4,
 "nbformat_minor": 2
}
